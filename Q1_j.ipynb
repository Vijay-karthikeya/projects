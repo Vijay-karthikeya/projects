{
 "cells": [
  {
   "cell_type": "markdown",
   "metadata": {
    "id": "XUfLiMPdNT6i"
   },
   "source": [
    "You can use this template for problems 1, 2 and 3"
   ]
  },
  {
   "cell_type": "code",
   "execution_count": 2,
   "metadata": {
    "id": "RjPY68QJQ-nH"
   },
   "outputs": [],
   "source": [
    "import numpy as np\n",
    "import time\n",
    "# Students will submit their files with their team-name.py\n",
    "# Student have to use the Team as their parent class"
   ]
  },
  {
   "cell_type": "markdown",
   "metadata": {
    "id": "IyIa-PRKCTCb"
   },
   "source": [
    "Recent Version of the Code"
   ]
  },
  {
   "cell_type": "markdown",
   "metadata": {
    "id": "zXNSbMkhAIrX"
   },
   "source": []
  },
  {
   "cell_type": "code",
   "execution_count": 3,
   "metadata": {
    "id": "u3mNBpDOCSWd"
   },
   "outputs": [],
   "source": [
    "class ROLLNUMBER_Q1:\n",
    "  def __init__(self):\n",
    "    self.num_arms = 6\n",
    "    self.wickets = np.zeros(self.num_arms)\n",
    "    self.occur = np.zeros(self.num_arms)\n",
    "    self.prev_action = 0\n",
    "    self.round = 0\n",
    "    \n",
    "  @staticmethod\n",
    "  def kl_div(p, q):\n",
    "    if q==0 and p==0:\n",
    "        return 0\n",
    "    if q==0 and p!=0:\n",
    "        return pow(10, 10)\n",
    "    if q==1 and p==1:\n",
    "        return 0\n",
    "    if q==1 and p!=1:\n",
    "        return pow(10, 10)\n",
    "    if p==0:\n",
    "        return np.log(1/(1-q))\n",
    "    if p==1:\n",
    "        return np.log(1/q)\n",
    "    \n",
    "    return p*np.log(p/q) + (1-p)*np.log((1-p)/(1-q))\n",
    "\n",
    "  def kl_conf(self, t, em, num_pulls, precision=1e-6, max_iter=50):\n",
    "    n = 0\n",
    "    lower_bound = em\n",
    "    upper_bound = 1\n",
    "    \n",
    "    while n<max_iter and (upper_bound-lower_bound)>precision:\n",
    "        q = (lower_bound+upper_bound)/2\n",
    "        if self.kl_div(em, q) < np.log(1 + t*np.log(t)**2)/num_pulls:\n",
    "            upper_bound = q\n",
    "        else:\n",
    "            lower_bound = q\n",
    "        n+= 1\n",
    "    \n",
    "    return (lower_bound+upper_bound)/2\n",
    "\n",
    "\n",
    "  def get_action(self,wicket,runs_scored):\n",
    "    X = wicket\n",
    "    R = runs_scored\n",
    "    \n",
    "    if self.round > 0: \n",
    "        self.wickets[self.prev_action] += X\n",
    "        self.occur[self.prev_action] += 1\n",
    "        \n",
    "    if self.round < 6:\n",
    "        action = self.round\n",
    "    \n",
    "    else:\n",
    "        kl_ucb = np.array([self.kl_conf(self.round, 1-self.wickets[idx]/self.occur[idx], self.occur[idx]) for idx in range(self.num_arms)])\n",
    "        action = np.argmax(kl_ucb)\n",
    "    \n",
    "    self.prev_action = action\n",
    "    self.round += 1\n",
    "    \n",
    "    return action\n",
    "    \n",
    "    \n"
   ]
  },
  {
   "cell_type": "code",
   "execution_count": 4,
   "metadata": {
    "id": "HzfBOAnrCycf"
   },
   "outputs": [],
   "source": [
    "class Environment:\n",
    "  def __init__(self,num_balls,agent):\n",
    "    self.num_balls = num_balls\n",
    "    self.agent = agent\n",
    "    self.__run_time = 0\n",
    "    self.__total_runs = 0\n",
    "    self.__total_wickets = 0\n",
    "    self.__runs_scored = 0\n",
    "    self.__start_time = 0\n",
    "    self.__end_time = 0\n",
    "    self.__regret_w = 0\n",
    "    self.__regret_s = 0\n",
    "    self.__wicket = 0\n",
    "    self.__regret_rho = 0\n",
    "    self.__p_out = np.array([0.001,0.01,0.02,0.03,0.1,0.3])\n",
    "    self.__p_out = np.array([0.01,0.001,0.02,0.003,0.1,0.3]) # Test 1\n",
    "    self.__p_run = np.array([1,0.9,0.85,0.8,0.75,0.7])\n",
    "    self.__action_runs_map = np.array([0,1,2,3,4,6])\n",
    "    self.__s = (1-self.__p_out)*self.__p_run*self.__action_runs_map\n",
    "    self.__rho = self.__s/self.__p_out\n",
    "\n",
    "\n",
    "  def __get_action(self):\n",
    "    self.__start_time      = time. time()\n",
    "    action          = self.agent.get_action(self.__wicket,self.__runs_scored)\n",
    "    self.__end_time        = time. time()\n",
    "    self.__run_time   = self.__run_time + self.__end_time - self.__start_time\n",
    "    return action\n",
    "\n",
    "\n",
    "  def __get_outcome(self, action):\n",
    "    pout = self.__p_out[action]\n",
    "    prun= self.__p_run[action]\n",
    "    wicket = np.random.choice(2,1,p=[1-pout,pout])[0]\n",
    "    runs = 0\n",
    "    if(wicket==0):\n",
    "      runs = self.__action_runs_map[action]*np.random.choice(2,1,p=[1-prun,prun])[0]\n",
    "    return wicket, runs\n",
    "\n",
    "\n",
    "  def innings(self):\n",
    "    self.__total_runs = 0\n",
    "    self.__total_wickets = 0\n",
    "    self.__runs_scored = 0\n",
    "\n",
    "    for ball in range(self.num_balls):\n",
    "      action = self.__get_action()\n",
    "      self.__wicket, self.__runs_scored   = self.__get_outcome(action)\n",
    "      self.__total_runs     = self.__total_runs + self.__runs_scored\n",
    "      self.__total_wickets  = self.__total_wickets + self.__wicket\n",
    "      self.__regret_w       = self.__regret_w+ (self.__p_out[action]-np.min(self.__p_out))\n",
    "      self.__regret_s       = self.__regret_s+ (np.max(self.__s) - self.__s[action])\n",
    "      self.__regret_rho       = self.__regret_rho+ (np.max(self.__rho)-self.__rho[action])\n",
    "    return self.__regret_w,self.__regret_s,self.__regret_rho, self.__total_runs, self.__total_wickets, self.__run_time\n"
   ]
  },
  {
   "cell_type": "code",
   "execution_count": 5,
   "metadata": {
    "id": "9_o_gI21Hlme"
   },
   "outputs": [],
   "source": [
    "agent = ROLLNUMBER_Q1()\n",
    "environment = Environment(100,agent)\n",
    "regret_w,regret_s,reger_rho,total_runs,total_wickets,run_time = environment.innings()"
   ]
  },
  {
   "cell_type": "code",
   "execution_count": 84,
   "metadata": {
    "colab": {
     "base_uri": "https://localhost:8080/"
    },
    "id": "sCghHDVww4sZ",
    "outputId": "f223942a-30dc-4dba-9907-5ec1886f8245"
   },
   "outputs": [
    {
     "name": "stdout",
     "output_type": "stream",
     "text": [
      "0.7160000000000002 2064.467899999976 32348.999999999978 848 2 0.19564056396484375\n"
     ]
    }
   ],
   "source": [
    "print(regret_w,regret_s,reger_rho,total_runs,total_wickets,run_time)"
   ]
  },
  {
   "cell_type": "code",
   "execution_count": 85,
   "metadata": {
    "id": "EBLp5-XwKpDu"
   },
   "outputs": [
    {
     "data": {
      "text/plain": [
       "array([ 33., 962.,   1.,   1.,   1.,   1.])"
      ]
     },
     "execution_count": 85,
     "metadata": {},
     "output_type": "execute_result"
    }
   ],
   "source": [
    "agent.occur"
   ]
  },
  {
   "cell_type": "code",
   "execution_count": null,
   "metadata": {},
   "outputs": [],
   "source": []
  }
 ],
 "metadata": {
  "colab": {
   "provenance": []
  },
  "kernelspec": {
   "display_name": "Python 3 (ipykernel)",
   "language": "python",
   "name": "python3"
  },
  "language_info": {
   "codemirror_mode": {
    "name": "ipython",
    "version": 3
   },
   "file_extension": ".py",
   "mimetype": "text/x-python",
   "name": "python",
   "nbconvert_exporter": "python",
   "pygments_lexer": "ipython3",
   "version": "3.9.13"
  }
 },
 "nbformat": 4,
 "nbformat_minor": 1
}
