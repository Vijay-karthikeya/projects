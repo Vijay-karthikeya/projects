{
 "cells": [
  {
   "cell_type": "markdown",
   "metadata": {
    "id": "XUfLiMPdNT6i"
   },
   "source": [
    "You can use this template for problems 1, 2 and 3"
   ]
  },
  {
   "cell_type": "code",
   "execution_count": 13,
   "metadata": {
    "id": "RjPY68QJQ-nH"
   },
   "outputs": [],
   "source": [
    "import numpy as np\n",
    "import time\n",
    "import matplotlib.pyplot as plt\n",
    "# Students will submit their files with their team-name.py\n",
    "# Student have to use the Team as their parent class"
   ]
  },
  {
   "cell_type": "markdown",
   "metadata": {
    "id": "IyIa-PRKCTCb"
   },
   "source": [
    "Recent Version of the Code"
   ]
  },
  {
   "cell_type": "markdown",
   "metadata": {
    "id": "zXNSbMkhAIrX"
   },
   "source": []
  },
  {
   "cell_type": "code",
   "execution_count": 14,
   "metadata": {
    "id": "u3mNBpDOCSWd"
   },
   "outputs": [],
   "source": [
    "class ROLLNUMBER_Q2:\n",
    "  def __init__(self):\n",
    "    self.num_arms = 6\n",
    "    self.wicket = np.zeros(self.num_arms)\n",
    "    self.occur = np.zeros(self.num_arms)\n",
    "    self.prev_action = 0\n",
    "    self.round = 0\n",
    "    self.a = np.ones(self.num_arms)\n",
    "    self.b = np.ones(self.num_arms)\n",
    "    self.runs = np.zeros(self.num_arms)\n",
    "    self.hmap = np.zeros(6)\n",
    "    \n",
    "  @staticmethod\n",
    "  def kl_div(p, q):\n",
    "    if q==0 and p==0:\n",
    "        return 0\n",
    "    if q==0 and p!=0:\n",
    "        return pow(10, 10)\n",
    "    if q==1 and p==1:\n",
    "        return 0\n",
    "    if q==1 and p!=1:\n",
    "        return pow(10, 10)\n",
    "    if p==0:\n",
    "        return np.log(1/(1-q))\n",
    "    if p==1:\n",
    "        return np.log(1/q)\n",
    "    \n",
    "    return p*np.log(p/q) + (1-p)*np.log((1-p)/(1-q))\n",
    "\n",
    "\n",
    "  def kl_conf(self, t, em, num_pulls, precision=1e-6, max_iter=50):\n",
    "    n = 0\n",
    "    lower_bound = em\n",
    "    upper_bound = 1\n",
    "    \n",
    "    while n<max_iter and (upper_bound - lower_bound)>precision:\n",
    "        q = (lower_bound + upper_bound)/2\n",
    "        \n",
    "        if self.kl_div(em, q) < np.log(1+t*np.log(t)**2)/num_pulls:\n",
    "            upper_bound = q\n",
    "        else:\n",
    "            lower_bound = q\n",
    "            \n",
    "        n += 1\n",
    "    \n",
    "    return (upper_bound + lower_bound)/2\n",
    "    \n",
    "  def get_action(self,wicket,runs_scored):\n",
    "    X = wicket\n",
    "    R = runs_scored\n",
    "    \n",
    "    if self.round > 0:\n",
    "        self.occur[self.prev_action] += 1\n",
    "    \n",
    "    if self.round < 6:\n",
    "        action = self.round\n",
    "    else:\n",
    "        kl_ucb = np.array([self.kl_conf(self.round, self.runs[idx]/self.occur[idx], self.occur[idx]) for idx in range(self.num_arms)])\n",
    "        action = np.argmax(kl_ucb)\n",
    "    \n",
    "    self.prev_action = action\n",
    "    self.round += 1\n",
    "    \n",
    "    return action\n"
   ]
  },
  {
   "cell_type": "code",
   "execution_count": 15,
   "metadata": {},
   "outputs": [],
   "source": [
    "class ROLL_NUMBER_Q2_T:\n",
    "    def __init__(self):\n",
    "        self.num_arms = 6\n",
    "        self.a = np.ones(self.num_arms)\n",
    "        self.b = np.ones(self.num_arms)\n",
    "        self.hmap = np.array([0, 1, 2, 3, 4, 6])\n",
    "        self.prev_action = 0\n",
    "        self.round = 0\n",
    "        \n",
    "    def get_action(self, wicket, runs_scored):\n",
    "        X = wicket\n",
    "        R = runs_scored\n",
    "        \n",
    "        if self.round > 0:\n",
    "            if X==1:\n",
    "                self.b[self.prev_action] += 1\n",
    "            else:\n",
    "                if (R==self.prev_action) or (R==6 and self.prev_action==5):\n",
    "                    self.a[self.prev_action] += 1\n",
    "                else:\n",
    "                    self.b[self.prev_action] += 1\n",
    "        if self.round < 6:\n",
    "            action = self.round\n",
    "        else:\n",
    "            thompson = np.random.beta(self.a, self.b)*self.hmap\n",
    "            action = np.argmax(thompson)\n",
    "        \n",
    "        self.prev_action = action\n",
    "        self.round += 1\n",
    "        \n",
    "        return action"
   ]
  },
  {
   "cell_type": "code",
   "execution_count": 16,
   "metadata": {},
   "outputs": [],
   "source": [
    "class ROLL_NUMBER_Q2_T_V2:\n",
    "    def __init__(self):\n",
    "        self.num_arms = 6\n",
    "        self.a = np.ones(self.num_arms)\n",
    "        self.b = np.ones(self.num_arms)\n",
    "        self.hmap = np.array([0, 1, 2, 3, 4, 6])\n",
    "        self.prev_action = 0\n",
    "        self.round = 0\n",
    "        \n",
    "    def get_action(self, wicket, runs_scored):\n",
    "        X = wicket\n",
    "        R = runs_scored\n",
    "        \n",
    "        if self.round > 0:\n",
    "            if X==1:\n",
    "                self.b[self.prev_action] += 1\n",
    "            else:\n",
    "                if (R==self.prev_action) or (R==6 and self.prev_action==5):\n",
    "                    self.a[self.prev_action] += 1\n",
    "                else:\n",
    "                    self.b[self.prev_action] += 1\n",
    "        if self.round < 6:\n",
    "            action = self.round\n",
    "        else:\n",
    "            thompson = np.random.beta(self.a, self.b)*self.hmap\n",
    "            action = np.argmax(thompson)\n",
    "        \n",
    "        self.prev_action = action\n",
    "        self.round += 1\n",
    "        \n",
    "        return action"
   ]
  },
  {
   "cell_type": "code",
   "execution_count": 17,
   "metadata": {
    "id": "HzfBOAnrCycf"
   },
   "outputs": [],
   "source": [
    "class Environment:\n",
    "  def __init__(self,num_balls,agent):\n",
    "    self.num_balls = num_balls\n",
    "    self.agent = agent\n",
    "    self.__run_time = 0\n",
    "    self.__total_runs = 0\n",
    "    self.__total_wickets = 0\n",
    "    self.__runs_scored = 0\n",
    "    self.__start_time = 0\n",
    "    self.__end_time = 0\n",
    "    self.__regret_w = 0\n",
    "    self.__regret_s = 0\n",
    "    self.__wicket = 0\n",
    "    self.__regret_rho = 0\n",
    "    self.__p_out = np.array([0.001,0.01,0.02,0.03,0.1,0.3])\n",
    "    self.__p_run = np.array([1,0.9,0.85,0.8,0.75,0.7])\n",
    "    self.__action_runs_map = np.array([0,1,2,3,4,6])\n",
    "    self.__s = (1-self.__p_out)*self.__p_run*self.__action_runs_map\n",
    "    self.__rho = self.__s/self.__p_out\n",
    "    self.regret_s_hist = []\n",
    "\n",
    "  def __get_action(self):\n",
    "    self.__start_time      = time. time()\n",
    "    action          = self.agent.get_action(self.__wicket,self.__runs_scored)\n",
    "    self.__end_time        = time. time()\n",
    "    self.__run_time   = self.__run_time + self.__end_time - self.__start_time\n",
    "    return action\n",
    "\n",
    "\n",
    "  def __get_outcome(self, action):\n",
    "    pout = self.__p_out[action]\n",
    "    prun= self.__p_run[action]\n",
    "    wicket = np.random.choice(2,1,p=[1-pout,pout])[0]\n",
    "    runs = 0\n",
    "    if(wicket==0):\n",
    "      runs = self.__action_runs_map[action]*np.random.choice(2,1,p=[1-prun,prun])[0]\n",
    "    return wicket, runs\n",
    "\n",
    "\n",
    "  def innings(self):\n",
    "    self.__total_runs = 0\n",
    "    self.__total_wickets = 0\n",
    "    self.__runs_scored = 0\n",
    "\n",
    "    for ball in range(self.num_balls):\n",
    "      action = self.__get_action()\n",
    "      self.__wicket, self.__runs_scored   = self.__get_outcome(action)\n",
    "      self.__total_runs     = self.__total_runs + self.__runs_scored\n",
    "      self.__total_wickets  = self.__total_wickets + self.__wicket\n",
    "      self.__regret_w       = self.__regret_w+ (self.__p_out[action]-np.min(self.__p_out))\n",
    "      self.__regret_s       = self.__regret_s+ (np.max(self.__s) - self.__s[action])\n",
    "      self.__regret_rho       = self.__regret_rho+ (np.max(self.__rho)-self.__rho[action])\n",
    "      self.regret_s_hist += [self.__regret_s]\n",
    "    return self.__regret_w,self.__regret_s,self.__regret_rho, self.__total_runs, self.__total_wickets, self.regret_s_hist, self.__run_time\n"
   ]
  },
  {
   "cell_type": "code",
   "execution_count": 18,
   "metadata": {
    "id": "9_o_gI21Hlme"
   },
   "outputs": [],
   "source": [
    "agent = ROLL_NUMBER_Q2_T()\n",
    "agent2 = ROLLNUMBER_Q2()\n",
    "environment = Environment(10000, agent)\n",
    "environment2 = Environment(10000, agent2)\n",
    "regret_w,regret_s,reger_rho,total_runs,total_wickets, regret_s_hist, run_time = environment.innings()\n",
    "regret_w2,regret_s2,reger_rho2,total_runs2,total_wickets2, regret_s_hist2, run_time2 = environment2.innings()"
   ]
  },
  {
   "cell_type": "code",
   "execution_count": 19,
   "metadata": {
    "colab": {
     "base_uri": "https://localhost:8080/"
    },
    "id": "sCghHDVww4sZ",
    "outputId": "509f269c-37ff-4b57-fae2-6459aa5ba203"
   },
   "outputs": [
    {
     "name": "stdout",
     "output_type": "stream",
     "text": [
      "2955.340999999809 51.70699999999997 789193.2000001009 29491 2950 0.4141988754272461\n"
     ]
    }
   ],
   "source": [
    "print(regret_w,regret_s,reger_rho,total_runs,total_wickets,run_time)"
   ]
  },
  {
   "cell_type": "code",
   "execution_count": 20,
   "metadata": {},
   "outputs": [
    {
     "name": "stdout",
     "output_type": "stream",
     "text": [
      "0.45499999999999996 29389.474999995135 890713.1999998479 14 5 6.265085697174072\n"
     ]
    }
   ],
   "source": [
    "print(regret_w2,regret_s2,reger_rho2,total_runs2,total_wickets2,run_time2)"
   ]
  },
  {
   "cell_type": "code",
   "execution_count": 21,
   "metadata": {
    "id": "EBLp5-XwKpDu"
   },
   "outputs": [
    {
     "data": {
      "image/png": "[encoded data removed]",
      "text/plain": [
       "<Figure size 432x288 with 1 Axes>"
      ]
     },
     "metadata": {
      "needs_background": "light"
     },
     "output_type": "display_data"
    }
   ],
   "source": [
    "plt.plot(range(10000), regret_s_hist, label='Regret-Thompson-V2')\n",
    "plt.plot(range(10000), regret_s_hist2, label='Regret-Thompson')\n",
    "plt.legend()\n",
    "plt.xlabel('Round No.')\n",
    "plt.ylabel('Regret')\n",
    "plt.title('Regret vs Rounds')\n",
    "plt.show()"
   ]
  },
  {
   "cell_type": "code",
   "execution_count": null,
   "metadata": {},
   "outputs": [],
   "source": []
  },
  {
   "cell_type": "code",
   "execution_count": null,
   "metadata": {},
   "outputs": [],
   "source": []
  }
 ],
 "metadata": {
  "colab": {
   "provenance": []
  },
  "kernelspec": {
   "display_name": "Python 3 (ipykernel)",
   "language": "python",
   "name": "python3"
  },
  "language_info": {
   "codemirror_mode": {
    "name": "ipython",
    "version": 3
   },
   "file_extension": ".py",
   "mimetype": "text/x-python",
   "name": "python",
   "nbconvert_exporter": "python",
   "pygments_lexer": "ipython3",
   "version": "3.9.13"
  }
 },
 "nbformat": 4,
 "nbformat_minor": 1
}
